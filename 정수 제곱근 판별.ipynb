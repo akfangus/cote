{
 "cells": [
  {
   "cell_type": "markdown",
   "id": "966cf84d",
   "metadata": {},
   "source": [
    "### 임의의 양의 정수 n에 대해, n이 어떤 양의 정수 x의 제곱인지 아닌지 판단하려 합니다.\n",
    "### n이 양의 정수 x의 제곱이라면 x+1의 제곱을 리턴하고, n이 양의 정수 x의 제곱이 아니라면 -1을 리턴하는 함수를 완성하세요."
   ]
  },
  {
   "cell_type": "code",
   "execution_count": 29,
   "id": "246efedc",
   "metadata": {},
   "outputs": [],
   "source": [
    "import math\n",
    "def solution(n):\n",
    "#     answer = 0\n",
    "    for i in range(int(math.sqrt(n))+1):\n",
    "        if i**2 == n:\n",
    "            answer = (i+1)**2\n",
    "            break\n",
    "        else:\n",
    "            answer = -1\n",
    "            \n",
    "    return answer"
   ]
  },
  {
   "cell_type": "code",
   "execution_count": 30,
   "id": "5eb3430b",
   "metadata": {},
   "outputs": [
    {
     "data": {
      "text/plain": [
       "144"
      ]
     },
     "execution_count": 30,
     "metadata": {},
     "output_type": "execute_result"
    }
   ],
   "source": [
    "solution(121)"
   ]
  },
  {
   "cell_type": "code",
   "execution_count": 35,
   "id": "5242a14e",
   "metadata": {},
   "outputs": [],
   "source": [
    "sqrt = 121 ** (1/2)"
   ]
  },
  {
   "cell_type": "code",
   "execution_count": 36,
   "id": "534f10d6",
   "metadata": {},
   "outputs": [
    {
     "data": {
      "text/plain": [
       "0.0"
      ]
     },
     "execution_count": 36,
     "metadata": {},
     "output_type": "execute_result"
    }
   ],
   "source": [
    "sqrt %1"
   ]
  },
  {
   "cell_type": "markdown",
   "id": "6d9f5863",
   "metadata": {},
   "source": [
    "# sqrt를 1로 나누었을때 나머지가 0 이면 정수 아니면 제곱근이 아니다라고 함."
   ]
  },
  {
   "cell_type": "code",
   "execution_count": 37,
   "id": "93dc2587",
   "metadata": {},
   "outputs": [],
   "source": [
    "import math\n",
    "def solution(n):\n",
    "#     answer = 0\n",
    "    if math.sqrt(n) % 1 == 0:\n",
    "        return (math.sqrt(n) + 1) ** 2\n",
    "    else:\n",
    "        return  -1\n",
    "#     return answer"
   ]
  },
  {
   "cell_type": "code",
   "execution_count": 39,
   "id": "a705f099",
   "metadata": {},
   "outputs": [
    {
     "data": {
      "text/plain": [
       "-1"
      ]
     },
     "execution_count": 39,
     "metadata": {},
     "output_type": "execute_result"
    }
   ],
   "source": [
    "solution(120)"
   ]
  },
  {
   "cell_type": "code",
   "execution_count": null,
   "id": "ccebe616",
   "metadata": {},
   "outputs": [],
   "source": []
  }
 ],
 "metadata": {
  "kernelspec": {
   "display_name": "Python 3 (ipykernel)",
   "language": "python",
   "name": "python3"
  },
  "language_info": {
   "codemirror_mode": {
    "name": "ipython",
    "version": 3
   },
   "file_extension": ".py",
   "mimetype": "text/x-python",
   "name": "python",
   "nbconvert_exporter": "python",
   "pygments_lexer": "ipython3",
   "version": "3.9.12"
  }
 },
 "nbformat": 4,
 "nbformat_minor": 5
}
