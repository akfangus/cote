{
 "cells": [
  {
   "cell_type": "markdown",
   "id": "9d682dfa",
   "metadata": {},
   "source": [
    "### 두 수를 입력받아 두 수의 최대공약수와 최소공배수를 반환하는 함수, solution을 완성해 보세요. 배열의 맨 앞에 최대공약수, 그다음 최소공배수를 넣어 반환하면 됩니다. 예를 들어 두 수 3, 12의 최대공약수는 3, 최소공배수는 12이므로 solution(3, 12)는 [3, 12]를 반환해야 합니다."
   ]
  },
  {
   "cell_type": "code",
   "execution_count": 78,
   "id": "4d501178",
   "metadata": {},
   "outputs": [],
   "source": [
    "# 약수를 통해 최대공약수\n",
    "# 두 수의 약수들을 리스트로 모아서 집합형태인 set으로 변환해서 공통된 수중 max값\n",
    "def yak(a,b):\n",
    "    l1 = []\n",
    "    l2 = []\n",
    "    \n",
    "    for i in range(1,a+1):\n",
    "        if a % i == 0:\n",
    "            l1.append(i)\n",
    "            \n",
    "    for i in range(1,b+1):\n",
    "        if b % i == 0:\n",
    "            l2.append(i)\n",
    "            \n",
    "    \n",
    "    gcd = max(set(l1) & set(l2))\n",
    "    return gcd\n",
    "# 두 수의 배수들을 통해 최소공배수\n",
    "# 1~a 1~b까지 배수들을 list로 저장하고\n",
    "# 그중에서 min값\n",
    "def gob(a,b):\n",
    "    l1 = []\n",
    "    l2 = []\n",
    "    for i in range(1, b+1):\n",
    "        l1.append(a*i)\n",
    "    for i in range(1, a+1):\n",
    "        l2.append(b*i)\n",
    "    \n",
    "    lcm = min(set(l1) & set(l2))\n",
    "    return lcm\n",
    "\n",
    "def solution(n, m):\n",
    "    answer = []\n",
    "    answer.append(yak(n,m))\n",
    "    answer.append(gob(n,m))\n",
    "    return answer"
   ]
  },
  {
   "cell_type": "markdown",
   "id": "6bdd579c",
   "metadata": {},
   "source": [
    "# import math함수"
   ]
  },
  {
   "cell_type": "code",
   "execution_count": 2,
   "id": "fd9d2f94",
   "metadata": {},
   "outputs": [],
   "source": [
    "import math\n",
    "\n",
    "def solution(n, m):\n",
    "    answer = []\n",
    "    answer.append(math.gcd(n,m))\n",
    "    answer.append(math.gcd(n,m))\n",
    "    return answer"
   ]
  },
  {
   "cell_type": "markdown",
   "id": "066f32c2",
   "metadata": {},
   "source": [
    "# list에서 중복된 값만 뽑으려면\n",
    "# 집합인 set으로 변경해서 & 연산으로 합집합이 됨"
   ]
  },
  {
   "cell_type": "markdown",
   "id": "7db19cc3",
   "metadata": {},
   "source": [
    "# 다른 풀이"
   ]
  },
  {
   "cell_type": "code",
   "execution_count": 29,
   "id": "224d2432",
   "metadata": {},
   "outputs": [],
   "source": [
    "# 정답\n",
    "def solution(n, m):\n",
    "    answer = []\n",
    "    # 최대공약수\n",
    "    # 두 수중 min값에서 1까지 루프돌려서\n",
    "    # 두 수 모두 나누어 떨어지는 최대값을 저장\n",
    "    for i in range(min(n,m), 1, -1):\n",
    "        if n%i ==0 and m%i ==0:\n",
    "            answer.append(i)\n",
    "            break\n",
    "    # 최소공배수\n",
    "    # 두 수중 max값에서 두수의 곱까지 루프 돌려서\n",
    "    # 두 수로 나누었을때 나누어 떨어지는 최소값을 저장.\n",
    "    for i in range(max(n,m), n*m+1):\n",
    "        if i%m==0 and i%n ==0:\n",
    "            answer.append(i)\n",
    "            break\n",
    "    return answer"
   ]
  },
  {
   "cell_type": "code",
   "execution_count": 30,
   "id": "b773e469",
   "metadata": {},
   "outputs": [
    {
     "data": {
      "text/plain": [
       "[6, 120]"
      ]
     },
     "execution_count": 30,
     "metadata": {},
     "output_type": "execute_result"
    }
   ],
   "source": [
    "solution(24,30)"
   ]
  },
  {
   "cell_type": "code",
   "execution_count": null,
   "id": "1bbc7a16",
   "metadata": {},
   "outputs": [],
   "source": []
  }
 ],
 "metadata": {
  "kernelspec": {
   "display_name": "Python 3 (ipykernel)",
   "language": "python",
   "name": "python3"
  },
  "language_info": {
   "codemirror_mode": {
    "name": "ipython",
    "version": 3
   },
   "file_extension": ".py",
   "mimetype": "text/x-python",
   "name": "python",
   "nbconvert_exporter": "python",
   "pygments_lexer": "ipython3",
   "version": "3.9.12"
  }
 },
 "nbformat": 4,
 "nbformat_minor": 5
}
