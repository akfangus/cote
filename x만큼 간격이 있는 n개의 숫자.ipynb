{
 "cells": [
  {
   "cell_type": "markdown",
   "id": "15d5efd6",
   "metadata": {},
   "source": [
    "- 함수 solution은 정수 x와 자연수 n을 입력 받아, x부터 시작해 x씩 증가하는 숫자를 n개 지니는 리스트를 리턴해야 합니다.\n",
    "- 다음 제한 조건을 보고, 조건을 만족하는 함수, solution을 완성해주세요.\n",
    "<hr>\n",
    "- x는 -10000000 이상, 10000000 이하인 정수입니다.\n",
    "- n은 1000 이하인 자연수입니다."
   ]
  },
  {
   "cell_type": "code",
   "execution_count": 2,
   "id": "cef5ce43",
   "metadata": {},
   "outputs": [],
   "source": [
    "def solution(x, n):\n",
    "    answer = []\n",
    "    \n",
    "    for item in range(n):\n",
    "        answer.append(x+(x*item))\n",
    "    return answer"
   ]
  },
  {
   "cell_type": "markdown",
   "id": "a2d02551",
   "metadata": {},
   "source": [
    "# 다른사람 풀이"
   ]
  },
  {
   "cell_type": "code",
   "execution_count": 3,
   "id": "6b80961d",
   "metadata": {},
   "outputs": [],
   "source": [
    "def solution(x,n):\n",
    "    return [(i*x) + x for i in range(n)]"
   ]
  },
  {
   "cell_type": "code",
   "execution_count": null,
   "id": "e077c830",
   "metadata": {},
   "outputs": [],
   "source": []
  }
 ],
 "metadata": {
  "kernelspec": {
   "display_name": "Python 3 (ipykernel)",
   "language": "python",
   "name": "python3"
  },
  "language_info": {
   "codemirror_mode": {
    "name": "ipython",
    "version": 3
   },
   "file_extension": ".py",
   "mimetype": "text/x-python",
   "name": "python",
   "nbconvert_exporter": "python",
   "pygments_lexer": "ipython3",
   "version": "3.9.12"
  }
 },
 "nbformat": 4,
 "nbformat_minor": 5
}
