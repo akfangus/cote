{
 "cells": [
  {
   "cell_type": "markdown",
   "id": "3c266d20",
   "metadata": {},
   "source": [
    "### 전화번호가 문자열 phone_number로 주어졌을 때, 전화번호의 뒷 4자리를 제외한 나머지 숫자를 전부 *으로 가린 문자열을 리턴하는 함수, solution을 완성해주세요."
   ]
  },
  {
   "cell_type": "code",
   "execution_count": 12,
   "id": "88d66519",
   "metadata": {},
   "outputs": [],
   "source": [
    "def solution(phone_number):\n",
    "    answer = str('*') * len(phone_number[:-4]) + phone_number[-4:]\n",
    "    return answer"
   ]
  },
  {
   "cell_type": "code",
   "execution_count": 13,
   "id": "b9fd9fb7",
   "metadata": {},
   "outputs": [
    {
     "data": {
      "text/plain": [
       "'*******4444'"
      ]
     },
     "execution_count": 13,
     "metadata": {},
     "output_type": "execute_result"
    }
   ],
   "source": [
    "solution('01033334444')"
   ]
  },
  {
   "cell_type": "markdown",
   "id": "bdc21930",
   "metadata": {},
   "source": [
    "- str 곱셈연산이 가능하다. \n",
    "- str에 뒤에서부터 n 개만큼 선택하는 -n"
   ]
  },
  {
   "cell_type": "code",
   "execution_count": null,
   "id": "e00eff3a",
   "metadata": {},
   "outputs": [],
   "source": []
  }
 ],
 "metadata": {
  "kernelspec": {
   "display_name": "Python 3 (ipykernel)",
   "language": "python",
   "name": "python3"
  },
  "language_info": {
   "codemirror_mode": {
    "name": "ipython",
    "version": 3
   },
   "file_extension": ".py",
   "mimetype": "text/x-python",
   "name": "python",
   "nbconvert_exporter": "python",
   "pygments_lexer": "ipython3",
   "version": "3.9.12"
  }
 },
 "nbformat": 4,
 "nbformat_minor": 5
}
