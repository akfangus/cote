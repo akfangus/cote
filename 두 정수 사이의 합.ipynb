{
 "cells": [
  {
   "cell_type": "markdown",
   "id": "969e7dc9",
   "metadata": {},
   "source": [
    "## 두정수 a,b 가 주어졎ㅆ을때 a와 ,b 사이에 속한 모든 정수의 합을 return"
   ]
  },
  {
   "cell_type": "code",
   "execution_count": 15,
   "id": "888e44f0",
   "metadata": {},
   "outputs": [],
   "source": [
    "def solution(a,b):\n",
    "    answer = 0\n",
    "    input_num = sorted((a,b))\n",
    "    return sum([i for i in range(input_num[0], input_num[1]+1)])\n",
    "#     return answer"
   ]
  },
  {
   "cell_type": "code",
   "execution_count": 16,
   "id": "429a6581",
   "metadata": {},
   "outputs": [
    {
     "data": {
      "text/plain": [
       "12"
      ]
     },
     "execution_count": 16,
     "metadata": {},
     "output_type": "execute_result"
    }
   ],
   "source": [
    "solution(3,5)"
   ]
  },
  {
   "cell_type": "code",
   "execution_count": 14,
   "id": "d5654ff7",
   "metadata": {},
   "outputs": [
    {
     "data": {
      "text/plain": [
       "[3, 5]"
      ]
     },
     "execution_count": 14,
     "metadata": {},
     "output_type": "execute_result"
    }
   ],
   "source": [
    "a=3\n",
    "b=5\n",
    "sorted((a,b))"
   ]
  },
  {
   "cell_type": "code",
   "execution_count": 8,
   "id": "83b4d2ac",
   "metadata": {},
   "outputs": [
    {
     "ename": "TypeError",
     "evalue": "set expected at most 1 argument, got 2",
     "output_type": "error",
     "traceback": [
      "\u001b[1;31m---------------------------------------------------------------------------\u001b[0m",
      "\u001b[1;31mTypeError\u001b[0m                                 Traceback (most recent call last)",
      "Input \u001b[1;32mIn [8]\u001b[0m, in \u001b[0;36m<cell line: 1>\u001b[1;34m()\u001b[0m\n\u001b[1;32m----> 1\u001b[0m \u001b[38;5;28;43mset\u001b[39;49m\u001b[43m(\u001b[49m\u001b[38;5;241;43m5\u001b[39;49m\u001b[43m,\u001b[49m\u001b[38;5;241;43m3\u001b[39;49m\u001b[43m)\u001b[49m\n",
      "\u001b[1;31mTypeError\u001b[0m: set expected at most 1 argument, got 2"
     ]
    }
   ],
   "source": [
    "def adder(a,b):\n",
    "    # 이런식으로 temp 안쓰고 위치를 바꿔줄 수 있다.\n",
    "    if a > : a,b = b,a\n",
    "    # min max를 이용할수도 있음\n",
    "    sum(range(min(a,b),max(a,b)+1))"
   ]
  },
  {
   "cell_type": "code",
   "execution_count": null,
   "id": "ccefcbe5",
   "metadata": {},
   "outputs": [],
   "source": []
  }
 ],
 "metadata": {
  "kernelspec": {
   "display_name": "Python 3 (ipykernel)",
   "language": "python",
   "name": "python3"
  },
  "language_info": {
   "codemirror_mode": {
    "name": "ipython",
    "version": 3
   },
   "file_extension": ".py",
   "mimetype": "text/x-python",
   "name": "python",
   "nbconvert_exporter": "python",
   "pygments_lexer": "ipython3",
   "version": "3.9.12"
  }
 },
 "nbformat": 4,
 "nbformat_minor": 5
}
