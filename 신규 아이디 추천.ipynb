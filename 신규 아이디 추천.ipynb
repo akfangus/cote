{
 "cells": [
  {
   "cell_type": "markdown",
   "id": "a61b5686",
   "metadata": {},
   "source": [
    "## 아이디의 길이는 3자 이상 15자 이하\n",
    "## 아이디는 알파벳 소문자, 숫자, 빼기(-), 밑줄(_), 마침표(.) 문자만 사용할 수 있습니다.\n",
    "## 단, 마침표(.)는 처음과 끝에 사용할 수 없으며 또한 연속으로 사용할 수 없습니다.\n",
    "\n",
    "\n",
    "1.  new_id의 모든 대문자를 대응되는 소문자로 치환합니다.\n",
    "2.  new_id에서 알파벳 소문자, 숫자, 빼기(-), 밑줄(_), 마침표(.)를 제외한 모든 문자를 제거합니다.\n",
    "3.  new_id에서 마침표(.)가 2번 이상 연속된 부분을 하나의 마침표(.)로 치환합니다.\n",
    "4. new_id에서 마침표(.)가 처음이나 끝에 위치한다면 제거합니다.\n",
    "5. new_id가 빈 문자열이라면, new_id에 \"a\"를 대입합니다.\n",
    "6. new_id의 길이가 16자 이상이면, new_id의 첫 15개의 문자를 제외한 나머지 문자들을 모두 제거합니다.\n",
    "     만약 제거 후 마침표(.)가 new_id의 끝에 위치한다면 끝에 위치한 마침표(.) 문자를 제거합니다.\n",
    "7. new_id의 길이가 2자 이하라면, new_id의 마지막 문자를 new_id의 길이가 3이 될 때까지 반복해서 끝에 붙입니다."
   ]
  },
  {
   "cell_type": "code",
   "execution_count": 92,
   "id": "56237432",
   "metadata": {},
   "outputs": [],
   "source": [
    "import re\n",
    "def solution(new_id):\n",
    "\n",
    "#     answer = ''\n",
    "    \n",
    "    # 1단계\n",
    "    new_id = new_id.lower()\n",
    "    print(f'1단계 : {new_id}')\n",
    "    \n",
    "    #2단계\n",
    "    new_id = re.sub(r\"[^a-z0-9-_.]\",\"\",new_id)\n",
    "    print(f'2단계 : {new_id}')\n",
    "    \n",
    "    # 3단계\n",
    "    while '..' in new_id:\n",
    "        new_id = new_id.replace('..','.')\n",
    "    print(f'3단계 : {new_id}')\n",
    "    \n",
    "    # 4단계\n",
    "    if new_id[0] == '.':\n",
    "        if len(new_id) >=2:\n",
    "            new_id = new_id[1:]\n",
    "    if new_id[-1] == '.':\n",
    "        new_id = new_id[:-1]\n",
    "    print(f'4단계 : {new_id}')\n",
    "    \n",
    "    #5단계\n",
    "    if new_id=='':\n",
    "        new_id = 'a'\n",
    "    print(f'5단계 : {new_id}')\n",
    "    \n",
    "    #6단계\n",
    "    if len(new_id)>15:\n",
    "        new_id = new_id[:15]\n",
    "    if new_id[-1] == '.':\n",
    "        new_id = new_id[:-1]\n",
    "    print(f'6단계 : {new_id}')\n",
    "    \n",
    "    # 7단계\n",
    "    while len(new_id)<3:\n",
    "        new_id += new_id[-1]  \n",
    "    print(f'7단계 : {new_id}')\n",
    "    \n",
    "    return new_id"
   ]
  },
  {
   "cell_type": "code",
   "execution_count": 91,
   "id": "43069055",
   "metadata": {},
   "outputs": [
    {
     "name": "stdout",
     "output_type": "stream",
     "text": [
      "1단계 : =.=\n",
      "2단계 : .\n",
      "3단계 : .\n",
      "4단계 : \n",
      "5단계 : a\n",
      "6단계 : a\n",
      "7단계 : aaa\n"
     ]
    },
    {
     "data": {
      "text/plain": [
       "''"
      ]
     },
     "execution_count": 91,
     "metadata": {},
     "output_type": "execute_result"
    }
   ],
   "source": [
    "text1 = \"...!@BaT#*..y.abcdefghijklm\"\n",
    "text2 = \"z-+.^.\"\n",
    "text3 = '=.='\n",
    "solution(text3)"
   ]
  },
  {
   "cell_type": "code",
   "execution_count": 1,
   "id": "64fd4904",
   "metadata": {},
   "outputs": [],
   "source": [
    "strr = 'qwerQ'"
   ]
  },
  {
   "cell_type": "code",
   "execution_count": 2,
   "id": "5d00b8cb",
   "metadata": {},
   "outputs": [
    {
     "data": {
      "text/plain": [
       "'qwerq'"
      ]
     },
     "execution_count": 2,
     "metadata": {},
     "output_type": "execute_result"
    }
   ],
   "source": [
    "strr.lower()"
   ]
  },
  {
   "cell_type": "code",
   "execution_count": 48,
   "id": "e95f8ad2",
   "metadata": {},
   "outputs": [],
   "source": [
    "strr = '....a.aaaaaaaaaaaaaaaaaaaaaa...'\n"
   ]
  },
  {
   "cell_type": "code",
   "execution_count": 49,
   "id": "16e62ad1",
   "metadata": {},
   "outputs": [],
   "source": [
    "while '..' in strr:\n",
    "    strr = strr.replace('..','.')"
   ]
  },
  {
   "cell_type": "code",
   "execution_count": 50,
   "id": "0b4366fe",
   "metadata": {},
   "outputs": [
    {
     "data": {
      "text/plain": [
       "'aaaaaaaaaaaaaaaaaaaaaaa'"
      ]
     },
     "execution_count": 50,
     "metadata": {},
     "output_type": "execute_result"
    }
   ],
   "source": [
    "strr.replace('.','')"
   ]
  },
  {
   "cell_type": "code",
   "execution_count": 51,
   "id": "d20a19aa",
   "metadata": {},
   "outputs": [
    {
     "data": {
      "text/plain": [
       "'.a.aaaaaaaaaaaaaaaaaaaaaa.'"
      ]
     },
     "execution_count": 51,
     "metadata": {},
     "output_type": "execute_result"
    }
   ],
   "source": [
    "strr"
   ]
  },
  {
   "cell_type": "code",
   "execution_count": 52,
   "id": "00ae2197",
   "metadata": {},
   "outputs": [
    {
     "data": {
      "text/plain": [
       "'.a.aaaaaaaaaaaaaaaaaaaaaa'"
      ]
     },
     "execution_count": 52,
     "metadata": {},
     "output_type": "execute_result"
    }
   ],
   "source": [
    "strr[:-1]\n",
    "# strr"
   ]
  },
  {
   "cell_type": "code",
   "execution_count": 53,
   "id": "5ad5fd24",
   "metadata": {},
   "outputs": [
    {
     "data": {
      "text/plain": [
       "26"
      ]
     },
     "execution_count": 53,
     "metadata": {},
     "output_type": "execute_result"
    }
   ],
   "source": [
    "len(strr)\n",
    "    "
   ]
  },
  {
   "cell_type": "code",
   "execution_count": 56,
   "id": "51f6b7fa",
   "metadata": {},
   "outputs": [
    {
     "data": {
      "text/plain": [
       "16"
      ]
     },
     "execution_count": 56,
     "metadata": {},
     "output_type": "execute_result"
    }
   ],
   "source": [
    "len(strr[:16])"
   ]
  },
  {
   "cell_type": "code",
   "execution_count": 59,
   "id": "2c0cb4b3",
   "metadata": {},
   "outputs": [],
   "source": [
    "strr='aa'"
   ]
  },
  {
   "cell_type": "code",
   "execution_count": 60,
   "id": "1a0fd546",
   "metadata": {},
   "outputs": [],
   "source": [
    "strr += strr[-1]"
   ]
  },
  {
   "cell_type": "code",
   "execution_count": 61,
   "id": "c5cd7b71",
   "metadata": {},
   "outputs": [
    {
     "data": {
      "text/plain": [
       "'aaa'"
      ]
     },
     "execution_count": 61,
     "metadata": {},
     "output_type": "execute_result"
    }
   ],
   "source": [
    "strr"
   ]
  },
  {
   "cell_type": "code",
   "execution_count": 66,
   "id": "50466e81",
   "metadata": {},
   "outputs": [
    {
     "ename": "IndexError",
     "evalue": "string index out of range",
     "output_type": "error",
     "traceback": [
      "\u001b[1;31m---------------------------------------------------------------------------\u001b[0m",
      "\u001b[1;31mIndexError\u001b[0m                                Traceback (most recent call last)",
      "Input \u001b[1;32mIn [66]\u001b[0m, in \u001b[0;36m<cell line: 2>\u001b[1;34m()\u001b[0m\n\u001b[0;32m      1\u001b[0m strr \u001b[38;5;241m=\u001b[39m \u001b[38;5;124m'\u001b[39m\u001b[38;5;124m'\u001b[39m\n\u001b[1;32m----> 2\u001b[0m \u001b[43mstrr\u001b[49m\u001b[43m[\u001b[49m\u001b[38;5;241;43m-\u001b[39;49m\u001b[38;5;241;43m1\u001b[39;49m\u001b[43m]\u001b[49m\n",
      "\u001b[1;31mIndexError\u001b[0m: string index out of range"
     ]
    }
   ],
   "source": [
    "strr = ''\n",
    "strr[-1]"
   ]
  },
  {
   "cell_type": "code",
   "execution_count": 87,
   "id": "3d5c2947",
   "metadata": {},
   "outputs": [],
   "source": [
    "strr='aaaaaaaaa'"
   ]
  },
  {
   "cell_type": "code",
   "execution_count": 88,
   "id": "e59766d6",
   "metadata": {},
   "outputs": [],
   "source": [
    "while len(strr) < 3:\n",
    "    print(len(strr))\n",
    "    strr += strr[-1]"
   ]
  },
  {
   "cell_type": "code",
   "execution_count": 89,
   "id": "a71ef94c",
   "metadata": {},
   "outputs": [
    {
     "data": {
      "text/plain": [
       "'aaaaaaaaa'"
      ]
     },
     "execution_count": 89,
     "metadata": {},
     "output_type": "execute_result"
    }
   ],
   "source": [
    "strr"
   ]
  },
  {
   "cell_type": "code",
   "execution_count": null,
   "id": "d0d464a6",
   "metadata": {},
   "outputs": [],
   "source": []
  }
 ],
 "metadata": {
  "kernelspec": {
   "display_name": "Python 3 (ipykernel)",
   "language": "python",
   "name": "python3"
  },
  "language_info": {
   "codemirror_mode": {
    "name": "ipython",
    "version": 3
   },
   "file_extension": ".py",
   "mimetype": "text/x-python",
   "name": "python",
   "nbconvert_exporter": "python",
   "pygments_lexer": "ipython3",
   "version": "3.9.12"
  }
 },
 "nbformat": 4,
 "nbformat_minor": 5
}
