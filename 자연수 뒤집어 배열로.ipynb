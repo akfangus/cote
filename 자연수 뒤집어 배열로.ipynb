{
 "cells": [
  {
   "cell_type": "markdown",
   "id": "4b8578eb",
   "metadata": {},
   "source": [
    "### 자연수 n을 뒤집어 각 자리 숫자를 원소로 가지는 배열 형태로 리턴해주세요. 예를들어 n이 12345이면 [5,4,3,2,1]을 리턴합니다."
   ]
  },
  {
   "cell_type": "code",
   "execution_count": 37,
   "id": "2c85d408",
   "metadata": {},
   "outputs": [],
   "source": [
    "def solution(n):\n",
    "    answer = []\n",
    "    for i in reversed(str(n)):\n",
    "        answer.append(int(i))\n",
    "        \n",
    "    # 신기한 방법 map을 사용\n",
    "    # reversed가 생각이안날땐 [::-1]\n",
    "#     list(map(int, reversed(str(12345))))\n",
    "    return answer"
   ]
  },
  {
   "cell_type": "code",
   "execution_count": 39,
   "id": "f7d5b7c2",
   "metadata": {},
   "outputs": [
    {
     "data": {
      "text/plain": [
       "[5, 4, 3, 2, 1]"
      ]
     },
     "execution_count": 39,
     "metadata": {},
     "output_type": "execute_result"
    }
   ],
   "source": [
    "list(map(int, reversed(str(12345))))"
   ]
  },
  {
   "cell_type": "code",
   "execution_count": null,
   "id": "6e6793fc",
   "metadata": {},
   "outputs": [],
   "source": []
  }
 ],
 "metadata": {
  "kernelspec": {
   "display_name": "Python 3 (ipykernel)",
   "language": "python",
   "name": "python3"
  },
  "language_info": {
   "codemirror_mode": {
    "name": "ipython",
    "version": 3
   },
   "file_extension": ".py",
   "mimetype": "text/x-python",
   "name": "python",
   "nbconvert_exporter": "python",
   "pygments_lexer": "ipython3",
   "version": "3.9.12"
  }
 },
 "nbformat": 4,
 "nbformat_minor": 5
}
