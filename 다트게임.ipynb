{
 "cells": [
  {
   "cell_type": "markdown",
   "id": "f703a26a",
   "metadata": {},
   "source": [
    "### 다트 게임은 다트판에 다트를 세 차례 던져 그 점수의 합계로 실력을 겨루는 게임\n",
    "\n",
    "\n",
    "1. 다트 게임은 총 3번의 기회로 구성된다.\n",
    "2. 각 기회마다 얻을 수 있는 점수는 0점에서 10점까지이다.\n",
    "3. 점수와 함께 Single(S), Double(D), Triple(T) 영역이 존재하고 각 영역 당첨 시 점수에서 1제곱, 2제곱, 3제곱 (점수1 , 점수2 , 점수3 )으로 계산된다.\n",
    "4. 옵션으로 스타상(*) , 아차상(#)이 존재하며 스타상(*) 당첨 시 해당 점수와 바로 전에 얻은 점수를 각 2배로 만든다. 아차상(#) 당첨 시 해당 점수는 마이너스된다.\n",
    "5. 스타상(*)은 첫 번째 기회에서도 나올 수 있다. 이 경우 첫 번째 스타상(*)의 점수만 2배가 된다. (예제 4번 참고)\n",
    "6. 스타상(*)의 효과는 다른 스타상(*)의 효과와 중첩될 수 있다. 이 경우 중첩된 스타상(*) 점수는 4배가 된다. (예제 4번 참고)\n",
    "7. 스타상(*)의 효과는 아차상(#)의 효과와 중첩될 수 있다. 이 경우 중첩된 아차상(#)의 점수는 -2배가 된다. (예제 5번 참고)\n",
    "8. Single(S), Double(D), Triple(T)은 점수마다 하나씩 존재한다.\n",
    "9. 스타상(*), 아차상(#)은 점수마다 둘 중 하나만 존재할 수 있으며, 존재하지 않을 수도 있다.\n",
    "<hr><hr>\n",
    "- 입력형식 => 점수|보너스|[옵션] 으로 이루어진 문자열 3세트\n",
    "- 예) 1S2D*3T\n",
    "    - 점수는 0에서 10사이의 정수\n",
    "    - 보너스는 SDT중 하나\n",
    "    - 옵션은 * 이나 # 중 하나이며 없을수동 ㅣㅆ음\n",
    "    \n",
    "- 기회는 총 3번"
   ]
  },
  {
   "cell_type": "code",
   "execution_count": 78,
   "id": "560a26fb",
   "metadata": {},
   "outputs": [],
   "source": [
    "def solution(dartResult):\n",
    "    answer = 0\n",
    "    temp = []\n",
    "    n=''\n",
    "    for i in dartResult:\n",
    "        if i.isdigit():\n",
    "            n += i\n",
    "        if i.isalpha():\n",
    "            if i=='S':\n",
    "                temp.append(int(n))\n",
    "                n=''\n",
    "            if i=='D':\n",
    "                temp.append(int(n)**2)\n",
    "                n=''\n",
    "            if i=='T':            \n",
    "                temp.append(int(n)**3)\n",
    "                n=''\n",
    "        if i == '#':\n",
    "            temp[-1] = temp[-1] * (-1)\n",
    "        if i =='*':\n",
    "            if len(temp[-2:]) < 2:\n",
    "                temp[-1] = temp[-1] *2\n",
    "            else:\n",
    "                temp[-1] = temp[-1] *2\n",
    "                temp[-2] = temp[-2] *2\n",
    "\n",
    "\n",
    "\n",
    "    return sum(temp)"
   ]
  },
  {
   "cell_type": "code",
   "execution_count": 8,
   "id": "fface034",
   "metadata": {},
   "outputs": [],
   "source": [
    "import re"
   ]
  },
  {
   "cell_type": "code",
   "execution_count": 10,
   "id": "19382f85",
   "metadata": {},
   "outputs": [],
   "source": [
    "a = '1S2D*3T'\n",
    "p = re.compile('[0-9]')"
   ]
  },
  {
   "cell_type": "code",
   "execution_count": 11,
   "id": "378a255c",
   "metadata": {},
   "outputs": [],
   "source": [
    "s = p.findall(a)"
   ]
  },
  {
   "cell_type": "code",
   "execution_count": 12,
   "id": "99840476",
   "metadata": {},
   "outputs": [
    {
     "data": {
      "text/plain": [
       "['1', '2', '3']"
      ]
     },
     "execution_count": 12,
     "metadata": {},
     "output_type": "execute_result"
    }
   ],
   "source": [
    "s"
   ]
  },
  {
   "cell_type": "code",
   "execution_count": 22,
   "id": "ccd1c750",
   "metadata": {},
   "outputs": [
    {
     "data": {
      "text/plain": [
       "(4, 2)"
      ]
     },
     "execution_count": 22,
     "metadata": {},
     "output_type": "execute_result"
    }
   ],
   "source": [
    "temp = [1,2]\n",
    "temp[-1] *2, temp[-2]*2"
   ]
  },
  {
   "cell_type": "code",
   "execution_count": 35,
   "id": "c9b55c21",
   "metadata": {},
   "outputs": [
    {
     "data": {
      "text/plain": [
       "[1]"
      ]
     },
     "execution_count": 35,
     "metadata": {},
     "output_type": "execute_result"
    }
   ],
   "source": [
    "temp = [1]\n",
    "temp[-2:]"
   ]
  },
  {
   "cell_type": "code",
   "execution_count": 26,
   "id": "e7d6ae7d",
   "metadata": {},
   "outputs": [
    {
     "data": {
      "text/plain": [
       "-2"
      ]
     },
     "execution_count": 26,
     "metadata": {},
     "output_type": "execute_result"
    }
   ],
   "source": [
    "2 * (-1)"
   ]
  },
  {
   "cell_type": "code",
   "execution_count": 70,
   "id": "bd449820",
   "metadata": {},
   "outputs": [],
   "source": [
    "a = '1D2S#10S'"
   ]
  },
  {
   "cell_type": "code",
   "execution_count": 76,
   "id": "68b0f638",
   "metadata": {},
   "outputs": [],
   "source": [
    "temp = []\n",
    "n=''\n",
    "for i in a:\n",
    "    if i.isdigit():\n",
    "        n += i\n",
    "    if i.isalpha():\n",
    "        if i=='S':\n",
    "            temp.append(int(n))\n",
    "            n=''\n",
    "        if i=='D':\n",
    "            temp.append(int(n)**2)\n",
    "            n=''\n",
    "        if i=='T':            \n",
    "            temp.append(int(n)**3)\n",
    "            n=''\n",
    "    if i == '#':\n",
    "        temp[-1] = temp[-1] * (-1)\n",
    "    if i =='*':\n",
    "        if len(temp[-2:]) < 2:\n",
    "            temp[-1] = temp[-1] *2\n",
    "        else:\n",
    "            temp[-1] = temp[-1] *2\n",
    "            temp[-2] = temp[-2] *2\n",
    "            \n",
    "            "
   ]
  },
  {
   "cell_type": "code",
   "execution_count": 77,
   "id": "553d6536",
   "metadata": {},
   "outputs": [
    {
     "data": {
      "text/plain": [
       "[1, -2, 10]"
      ]
     },
     "execution_count": 77,
     "metadata": {},
     "output_type": "execute_result"
    }
   ],
   "source": [
    "temp"
   ]
  },
  {
   "cell_type": "code",
   "execution_count": 49,
   "id": "db997f12",
   "metadata": {},
   "outputs": [
    {
     "data": {
      "text/plain": [
       "23"
      ]
     },
     "execution_count": 49,
     "metadata": {},
     "output_type": "execute_result"
    }
   ],
   "source": [
    "4+16+3"
   ]
  },
  {
   "cell_type": "code",
   "execution_count": 51,
   "id": "9bd5f29c",
   "metadata": {},
   "outputs": [],
   "source": [
    "ss = '1D2S#10S'\n",
    "# 1, 2, 10 만 뺴야됨"
   ]
  },
  {
   "cell_type": "code",
   "execution_count": 79,
   "id": "ab1d2803",
   "metadata": {},
   "outputs": [],
   "source": [
    "bonus = {'S' : 1, 'D' : 2, 'T' : 3}\n",
    "option = {'' : 1, '*' : 2, '#' : -1}\n",
    "p = re.compile('(\\d+)([SDT])([*#]?)')\n",
    "dart = p.findall(ss)"
   ]
  },
  {
   "cell_type": "code",
   "execution_count": 80,
   "id": "5d8aa2cb",
   "metadata": {},
   "outputs": [
    {
     "data": {
      "text/plain": [
       "[('1', 'D', ''), ('2', 'S', '#'), ('10', 'S', '')]"
      ]
     },
     "execution_count": 80,
     "metadata": {},
     "output_type": "execute_result"
    }
   ],
   "source": [
    "dart"
   ]
  },
  {
   "cell_type": "code",
   "execution_count": null,
   "id": "607e0d62",
   "metadata": {},
   "outputs": [],
   "source": [
    "1 D 2 S # 1 0 S"
   ]
  }
 ],
 "metadata": {
  "kernelspec": {
   "display_name": "Python 3 (ipykernel)",
   "language": "python",
   "name": "python3"
  },
  "language_info": {
   "codemirror_mode": {
    "name": "ipython",
    "version": 3
   },
   "file_extension": ".py",
   "mimetype": "text/x-python",
   "name": "python",
   "nbconvert_exporter": "python",
   "pygments_lexer": "ipython3",
   "version": "3.9.12"
  }
 },
 "nbformat": 4,
 "nbformat_minor": 5
}
