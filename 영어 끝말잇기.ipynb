{
 "cells": [
  {
   "cell_type": "markdown",
   "id": "39f01d22",
   "metadata": {},
   "source": [
    "### 1부터 n까지 번호가 붙어있는 n명의 사람이 영어 끝말잇기\n",
    "\n",
    "\n",
    "1. 1번부터 번호 순서대로 한 사람씩 차례대로 단어를 말합니다.\n",
    "2. 마지막 사람이 단어를 말한 다음에는 다시 1번부터 시작합니다.\n",
    "3. 앞사람이 말한 단어의 마지막 문자로 시작하는 단어를 말해야 합니다.\n",
    "4. 이전에 등장했던 단어는 사용할 수 없습니다.\n",
    "5. 한 글자인 단어는 인정되지 않습니다.\n",
    "\n",
    "<hr>\n",
    "\n"
   ]
  },
  {
   "cell_type": "code",
   "execution_count": 1,
   "id": "cb5c1fed",
   "metadata": {},
   "outputs": [],
   "source": [
    "def solution(n, words):\n",
    "    answer = []\n",
    "\n",
    "    # [실행] 버튼을 누르면 출력 값을 볼 수 있습니다.\n",
    "    print('Hello Python')\n",
    "\n",
    "    return answer"
   ]
  },
  {
   "cell_type": "code",
   "execution_count": null,
   "id": "3c388844",
   "metadata": {},
   "outputs": [],
   "source": []
  }
 ],
 "metadata": {
  "kernelspec": {
   "display_name": "Python 3 (ipykernel)",
   "language": "python",
   "name": "python3"
  },
  "language_info": {
   "codemirror_mode": {
    "name": "ipython",
    "version": 3
   },
   "file_extension": ".py",
   "mimetype": "text/x-python",
   "name": "python",
   "nbconvert_exporter": "python",
   "pygments_lexer": "ipython3",
   "version": "3.9.12"
  }
 },
 "nbformat": 4,
 "nbformat_minor": 5
}
