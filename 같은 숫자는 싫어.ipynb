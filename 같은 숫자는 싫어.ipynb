{
 "cells": [
  {
   "cell_type": "markdown",
   "id": "19f08201",
   "metadata": {},
   "source": [
    "###  배열 arr의 각 원소는 숫자 0부터 9까지로 이루어져 있습니다. 이때, 배열 arr에서 연속적으로 나타나는 숫자는 하나만 남기고 전부 제거"
   ]
  },
  {
   "cell_type": "code",
   "execution_count": 16,
   "id": "dc795fb8",
   "metadata": {},
   "outputs": [],
   "source": [
    "def solution(arr):\n",
    "    answer=[]\n",
    "    answer.append(arr[0])\n",
    "    for i in range(1, len(arr)):\n",
    "        if arr[i] != arr[i-1]:\n",
    "            answer.append(arr[i])\n",
    "    return answer"
   ]
  },
  {
   "cell_type": "code",
   "execution_count": 11,
   "id": "1c56cb97",
   "metadata": {},
   "outputs": [],
   "source": [
    "a = '1133011'"
   ]
  },
  {
   "cell_type": "code",
   "execution_count": 20,
   "id": "dc4fc248",
   "metadata": {},
   "outputs": [
    {
     "data": {
      "text/plain": [
       "'1'"
      ]
     },
     "execution_count": 20,
     "metadata": {},
     "output_type": "execute_result"
    }
   ],
   "source": [
    "a[0]"
   ]
  },
  {
   "cell_type": "code",
   "execution_count": null,
   "id": "dfddab46",
   "metadata": {},
   "outputs": [],
   "source": []
  }
 ],
 "metadata": {
  "kernelspec": {
   "display_name": "Python 3 (ipykernel)",
   "language": "python",
   "name": "python3"
  },
  "language_info": {
   "codemirror_mode": {
    "name": "ipython",
    "version": 3
   },
   "file_extension": ".py",
   "mimetype": "text/x-python",
   "name": "python",
   "nbconvert_exporter": "python",
   "pygments_lexer": "ipython3",
   "version": "3.9.12"
  }
 },
 "nbformat": 4,
 "nbformat_minor": 5
}
