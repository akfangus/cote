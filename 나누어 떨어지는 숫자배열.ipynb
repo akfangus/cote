{
 "cells": [
  {
   "cell_type": "markdown",
   "id": "d86eb251",
   "metadata": {},
   "source": [
    "### array의 각 element 중 divisor로 나누어 떨어지는 값을 오름차순으로 정렬한 배열을 반환하는 함수, solution을 작성해주세요.\n",
    "divisor로 나누어 떨어지는 element가 하나도 없다면 배열에 -1을 담아 반환하세요."
   ]
  },
  {
   "cell_type": "code",
   "execution_count": 36,
   "id": "d4e526e3",
   "metadata": {},
   "outputs": [],
   "source": [
    "def solution(arr, divisor):\n",
    "    answer = sorted([i for i in arr if i % divisor ==0])\n",
    "    \n",
    "    if len(answer)==0:\n",
    "        print('여기옴')\n",
    "        return [-1]\n",
    "    return answer"
   ]
  },
  {
   "cell_type": "code",
   "execution_count": 37,
   "id": "a98f3a56",
   "metadata": {},
   "outputs": [
    {
     "name": "stdout",
     "output_type": "stream",
     "text": [
      "여기옴\n"
     ]
    },
    {
     "data": {
      "text/plain": [
       "[-1]"
      ]
     },
     "execution_count": 37,
     "metadata": {},
     "output_type": "execute_result"
    }
   ],
   "source": [
    "solution([3,2,6],10)"
   ]
  },
  {
   "cell_type": "code",
   "execution_count": 24,
   "id": "f2888a7e",
   "metadata": {},
   "outputs": [],
   "source": [
    "arr = [3, 2, 6]\n",
    "divisor = 10\n",
    "\n",
    "answer = sorted([i for i in arr if i%divisor ==0])"
   ]
  },
  {
   "cell_type": "code",
   "execution_count": 41,
   "id": "8c7620fa",
   "metadata": {},
   "outputs": [],
   "source": [
    "#\n",
    "def asdf(arr):\n",
    "    return arr or [-6]"
   ]
  },
  {
   "cell_type": "code",
   "execution_count": 44,
   "id": "ce0c53c6",
   "metadata": {},
   "outputs": [
    {
     "data": {
      "text/plain": [
       "[1]"
      ]
     },
     "execution_count": 44,
     "metadata": {},
     "output_type": "execute_result"
    }
   ],
   "source": [
    "a = [1]\n",
    "asdf(a)"
   ]
  },
  {
   "cell_type": "markdown",
   "id": "c76e3436",
   "metadata": {},
   "source": [
    "## 빈리스트는 False로 취급한다."
   ]
  },
  {
   "cell_type": "code",
   "execution_count": null,
   "id": "545a2f84",
   "metadata": {},
   "outputs": [],
   "source": []
  }
 ],
 "metadata": {
  "kernelspec": {
   "display_name": "Python 3 (ipykernel)",
   "language": "python",
   "name": "python3"
  },
  "language_info": {
   "codemirror_mode": {
    "name": "ipython",
    "version": 3
   },
   "file_extension": ".py",
   "mimetype": "text/x-python",
   "name": "python",
   "nbconvert_exporter": "python",
   "pygments_lexer": "ipython3",
   "version": "3.9.12"
  }
 },
 "nbformat": 4,
 "nbformat_minor": 5
}
