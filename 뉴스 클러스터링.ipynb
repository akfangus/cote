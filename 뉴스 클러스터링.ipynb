{
 "cells": [
  {
   "cell_type": "code",
   "execution_count": 45,
   "id": "0acc01ca",
   "metadata": {},
   "outputs": [],
   "source": [
    "str1 = 'FRANCE+'\n",
    "str2 = 'franch'"
   ]
  },
  {
   "cell_type": "code",
   "execution_count": 9,
   "id": "d3593b89",
   "metadata": {},
   "outputs": [
    {
     "data": {
      "text/plain": [
       "'france+='"
      ]
     },
     "execution_count": 9,
     "metadata": {},
     "output_type": "execute_result"
    }
   ],
   "source": [
    "str1.lower()"
   ]
  },
  {
   "cell_type": "code",
   "execution_count": 54,
   "id": "9acfdc26",
   "metadata": {},
   "outputs": [],
   "source": [
    "def solution(str1, str2):\n",
    "    str1 = st1.lower()\n",
    "    str2 = str2.lower()\n",
    "    l1 = []\n",
    "    l2 = []\n",
    "    for item in range(len(str1)-1):\n",
    "        check_str = str1[item:item+2]\n",
    "        if check_str.isalpha():\n",
    "            l1.append(check_str)\n",
    "    \n",
    "    for item in range(len(str2)-1):\n",
    "        check_str = str2[item:item+2]\n",
    "        if check_str.isalpha():\n",
    "            l2.append(check_str)\n",
    "            \n",
    "            \n",
    "    return answer"
   ]
  },
  {
   "cell_type": "code",
   "execution_count": 12,
   "id": "3fb01dfa",
   "metadata": {},
   "outputs": [],
   "source": [
    "l1  = []\n",
    "l2 = []\n"
   ]
  },
  {
   "cell_type": "code",
   "execution_count": 13,
   "id": "ad0fe810",
   "metadata": {},
   "outputs": [
    {
     "name": "stdout",
     "output_type": "stream",
     "text": [
      "F\n",
      "R\n",
      "A\n",
      "N\n",
      "C\n",
      "E\n",
      "+\n",
      "=\n"
     ]
    }
   ],
   "source": [
    "for item in str1:\n",
    "    print(item)"
   ]
  },
  {
   "cell_type": "code",
   "execution_count": 17,
   "id": "cc837587",
   "metadata": {},
   "outputs": [
    {
     "data": {
      "text/plain": [
       "'FR'"
      ]
     },
     "execution_count": 17,
     "metadata": {},
     "output_type": "execute_result"
    }
   ],
   "source": [
    "str1[0:2]"
   ]
  },
  {
   "cell_type": "code",
   "execution_count": 51,
   "id": "532c414a",
   "metadata": {},
   "outputs": [],
   "source": [
    "l1.clear()"
   ]
  },
  {
   "cell_type": "code",
   "execution_count": 52,
   "id": "3d427295",
   "metadata": {},
   "outputs": [
    {
     "name": "stdout",
     "output_type": "stream",
     "text": [
      "0\n",
      "1\n",
      "2\n",
      "3\n",
      "4\n",
      "5\n"
     ]
    }
   ],
   "source": [
    "for item in range(len(str1)-1):\n",
    "    print(item)\n",
    "    if str1[item:item+2].isalpha():\n",
    "        l1.append(str1[item:item+2])"
   ]
  },
  {
   "cell_type": "code",
   "execution_count": 53,
   "id": "bb87d509",
   "metadata": {},
   "outputs": [
    {
     "data": {
      "text/plain": [
       "['FR', 'RA', 'AN', 'NC', 'CE']"
      ]
     },
     "execution_count": 53,
     "metadata": {},
     "output_type": "execute_result"
    }
   ],
   "source": [
    "l1"
   ]
  },
  {
   "cell_type": "code",
   "execution_count": 44,
   "id": "e0745ef6",
   "metadata": {},
   "outputs": [
    {
     "data": {
      "text/plain": [
       "True"
      ]
     },
     "execution_count": 44,
     "metadata": {},
     "output_type": "execute_result"
    }
   ],
   "source": [
    "temp = 'ab'\n",
    "temp.isalpha()"
   ]
  },
  {
   "cell_type": "code",
   "execution_count": 33,
   "id": "939aa198",
   "metadata": {},
   "outputs": [],
   "source": [
    "import re"
   ]
  },
  {
   "cell_type": "code",
   "execution_count": 35,
   "id": "8b492579",
   "metadata": {},
   "outputs": [],
   "source": [
    "p = re.compile('[a-z]')"
   ]
  },
  {
   "cell_type": "code",
   "execution_count": 39,
   "id": "05cc50e4",
   "metadata": {},
   "outputs": [
    {
     "data": {
      "text/plain": [
       "<re.Match object; span=(0, 1), match='a'>"
      ]
     },
     "execution_count": 39,
     "metadata": {},
     "output_type": "execute_result"
    }
   ],
   "source": [
    "p.match(temp)"
   ]
  },
  {
   "cell_type": "code",
   "execution_count": 55,
   "id": "a9ba5311",
   "metadata": {},
   "outputs": [],
   "source": [
    "# A = {1, 2, 3}, 집합 B = {2, 3, 4}\n",
    "A = set([1,2,3])\n",
    "B = set([2,3,4])"
   ]
  },
  {
   "cell_type": "code",
   "execution_count": 56,
   "id": "48e30709",
   "metadata": {},
   "outputs": [
    {
     "data": {
      "text/plain": [
       "{2, 3}"
      ]
     },
     "execution_count": 56,
     "metadata": {},
     "output_type": "execute_result"
    }
   ],
   "source": [
    "A & B"
   ]
  },
  {
   "cell_type": "code",
   "execution_count": 57,
   "id": "3544d4ff",
   "metadata": {},
   "outputs": [
    {
     "data": {
      "text/plain": [
       "{1, 2, 3, 4}"
      ]
     },
     "execution_count": 57,
     "metadata": {},
     "output_type": "execute_result"
    }
   ],
   "source": [
    "A | B"
   ]
  },
  {
   "cell_type": "code",
   "execution_count": 60,
   "id": "a3a579af",
   "metadata": {},
   "outputs": [],
   "source": [
    " #다중집합 A = {1, 1, 2, 2, 3}, 다중집합 B = {1, 2, 2, 4, 5}\n",
    "A = set([1,1,2,2,3])\n",
    "B = set([1,2,2,4,5])"
   ]
  },
  {
   "cell_type": "code",
   "execution_count": 63,
   "id": "13689b7b",
   "metadata": {},
   "outputs": [
    {
     "data": {
      "text/plain": [
       "{1, 2, 4, 5}"
      ]
     },
     "execution_count": 63,
     "metadata": {},
     "output_type": "execute_result"
    }
   ],
   "source": [
    "A and B"
   ]
  },
  {
   "cell_type": "code",
   "execution_count": null,
   "id": "0c5e4e36",
   "metadata": {},
   "outputs": [],
   "source": []
  }
 ],
 "metadata": {
  "kernelspec": {
   "display_name": "Python 3 (ipykernel)",
   "language": "python",
   "name": "python3"
  },
  "language_info": {
   "codemirror_mode": {
    "name": "ipython",
    "version": 3
   },
   "file_extension": ".py",
   "mimetype": "text/x-python",
   "name": "python",
   "nbconvert_exporter": "python",
   "pygments_lexer": "ipython3",
   "version": "3.9.12"
  }
 },
 "nbformat": 4,
 "nbformat_minor": 5
}
