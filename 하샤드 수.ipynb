{
 "cells": [
  {
   "cell_type": "markdown",
   "id": "4f5eb705",
   "metadata": {},
   "source": [
    "### 양의 정수 x가 하샤드 수이려면 x의 자릿수의 합으로 x가 나누어져야 합니다. 예를 들어 18의 자릿수 합은 1+8=9이고, 18은 9로 나누어 떨어지므로 18은 하샤드 수입니다. 자연수 x를 입력받아 x가 하샤드 수인지 아닌지 검사하는 함수, solution을 완성해주세요."
   ]
  },
  {
   "cell_type": "code",
   "execution_count": 1,
   "id": "535f96b0",
   "metadata": {},
   "outputs": [],
   "source": [
    "def solution(x):\n",
    "#     answer = True\n",
    "    value = sum([int(i) for i in str(x)])\n",
    "    if x%value == 0:       \n",
    "        answer = True\n",
    "    else:\n",
    "        answer = False\n",
    "    return answer"
   ]
  },
  {
   "cell_type": "code",
   "execution_count": 2,
   "id": "02743ebe",
   "metadata": {},
   "outputs": [
    {
     "data": {
      "text/plain": [
       "True"
      ]
     },
     "execution_count": 2,
     "metadata": {},
     "output_type": "execute_result"
    }
   ],
   "source": [
    "solution(10)"
   ]
  },
  {
   "cell_type": "code",
   "execution_count": 4,
   "id": "4b3f19a5",
   "metadata": {},
   "outputs": [],
   "source": [
    "# 자릿수의 합?\n",
    "sum1 = [int(i) for i in str(a)]"
   ]
  },
  {
   "cell_type": "markdown",
   "id": "aa9fe385",
   "metadata": {},
   "source": [
    "- 입력받은 정수의 자릿수의 합을 구하려면\n",
    "    - str로 변환하고 for 문 돌려서 각각 자릿수를 더하는 방법이 있다.\n"
   ]
  },
  {
   "cell_type": "code",
   "execution_count": null,
   "id": "dac46657",
   "metadata": {},
   "outputs": [],
   "source": []
  }
 ],
 "metadata": {
  "kernelspec": {
   "display_name": "Python 3 (ipykernel)",
   "language": "python",
   "name": "python3"
  },
  "language_info": {
   "codemirror_mode": {
    "name": "ipython",
    "version": 3
   },
   "file_extension": ".py",
   "mimetype": "text/x-python",
   "name": "python",
   "nbconvert_exporter": "python",
   "pygments_lexer": "ipython3",
   "version": "3.9.12"
  }
 },
 "nbformat": 4,
 "nbformat_minor": 5
}
