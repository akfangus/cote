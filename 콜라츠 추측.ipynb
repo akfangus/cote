{
 "cells": [
  {
   "cell_type": "markdown",
   "id": "d77f4ab0",
   "metadata": {},
   "source": [
    " ### 주어진 수가 1이 될 때까지 다음 작업을 반복하면, 모든 수를 1로 만들 수 있다는 추측\n",
    "- 1-1. 입력된 수가 짝수라면 2로 나눕니다. \n",
    "- 1-2. 입력된 수가 홀수라면 3을 곱하고 1을 더합니다. \n",
    "- 2. 결과로 나온 수에 같은 작업을 1이 될 때까지 반복합니다."
   ]
  },
  {
   "cell_type": "code",
   "execution_count": 27,
   "id": "9b2325aa",
   "metadata": {},
   "outputs": [],
   "source": [
    "def solution(num):\n",
    "    answer = num\n",
    "    cnt=0\n",
    "    while True:\n",
    "        if cnt > 500:\n",
    "            return -1\n",
    "        if answer ==1:\n",
    "            return cnt\n",
    "        elif answer%2 ==0:\n",
    "            answer = answer / 2\n",
    "            cnt +=1\n",
    "        else:\n",
    "            answer = (answer * 3)+1\n",
    "            cnt +=1\n",
    "\n",
    "    return value"
   ]
  },
  {
   "cell_type": "code",
   "execution_count": 29,
   "id": "e5d64689",
   "metadata": {},
   "outputs": [],
   "source": [
    "# 무한루프 while문에 따로 break를 안넣어도 \n",
    "# 원하는 값이 나오면 return 해주면 되는것 같음."
   ]
  },
  {
   "cell_type": "code",
   "execution_count": 28,
   "id": "05dfd8bd",
   "metadata": {},
   "outputs": [
    {
     "data": {
      "text/plain": [
       "3"
      ]
     },
     "execution_count": 28,
     "metadata": {},
     "output_type": "execute_result"
    }
   ],
   "source": [
    "solution(8)\n"
   ]
  },
  {
   "cell_type": "code",
   "execution_count": null,
   "id": "912f66d0",
   "metadata": {},
   "outputs": [],
   "source": []
  }
 ],
 "metadata": {
  "kernelspec": {
   "display_name": "Python 3 (ipykernel)",
   "language": "python",
   "name": "python3"
  },
  "language_info": {
   "codemirror_mode": {
    "name": "ipython",
    "version": 3
   },
   "file_extension": ".py",
   "mimetype": "text/x-python",
   "name": "python",
   "nbconvert_exporter": "python",
   "pygments_lexer": "ipython3",
   "version": "3.9.12"
  }
 },
 "nbformat": 4,
 "nbformat_minor": 5
}
