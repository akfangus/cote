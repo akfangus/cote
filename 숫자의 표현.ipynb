{
 "cells": [
  {
   "cell_type": "markdown",
   "id": "3239eb2a",
   "metadata": {},
   "source": [
    "### 자연수 n이 매개변수로 주어질 때, 연속된 자연수들로 n을 표현하는 방법의 수를 return하는 solution를 완성해주세요."
   ]
  },
  {
   "cell_type": "code",
   "execution_count": 18,
   "id": "dbf22840",
   "metadata": {},
   "outputs": [],
   "source": [
    "def solution(n):\n",
    "    # 기본 n = n일때 한개 추가해놓고 시작\n",
    "    cnt=1\n",
    "    # n의 절반부터는 연속적인 숫자 더하면 무조건 n 을 넘어가서 첫번째 루프에서는 n의 절반까지를 range로 함\n",
    "    for i in range(1, n//2 +1):\n",
    "        sum = 0\n",
    "        for j in range(i, n):\n",
    "            sum += j\n",
    "            if sum == n :\n",
    "                cnt += 1\n",
    "                break\n",
    "            elif sum > n:\n",
    "                break\n",
    "#             else:\n",
    "#                 continue\n",
    "                \n",
    "    return cnt"
   ]
  },
  {
   "cell_type": "code",
   "execution_count": 19,
   "id": "e2175754",
   "metadata": {},
   "outputs": [
    {
     "data": {
      "text/plain": [
       "4"
      ]
     },
     "execution_count": 19,
     "metadata": {},
     "output_type": "execute_result"
    }
   ],
   "source": [
    "solution(15)"
   ]
  },
  {
   "cell_type": "code",
   "execution_count": 5,
   "id": "69219fdc",
   "metadata": {},
   "outputs": [
    {
     "data": {
      "text/plain": [
       "7.5"
      ]
     },
     "execution_count": 5,
     "metadata": {},
     "output_type": "execute_result"
    }
   ],
   "source": [
    "15/2"
   ]
  },
  {
   "cell_type": "code",
   "execution_count": null,
   "id": "6b669bfd",
   "metadata": {},
   "outputs": [],
   "source": [
    "'''\n",
    "12345\n",
    "456\n",
    "78\n",
    "15\n",
    "를 루프로 찾아야하는뎅\n",
    "\n",
    "for i in range 15\n",
    "1,2,3,4,5 => cnt +1\n",
    "78 => cnt +1\n",
    "15 => cnt +1\n",
    "\n",
    "\n",
    "중요 포인트 n의 절반부터는 순서대로 더하면  무조건 n을 넘기기때문에 \n",
    "첫번재 for문에서 n의 절반 +1 까지만 range해줌\n",
    "'''"
   ]
  }
 ],
 "metadata": {
  "kernelspec": {
   "display_name": "Python 3 (ipykernel)",
   "language": "python",
   "name": "python3"
  },
  "language_info": {
   "codemirror_mode": {
    "name": "ipython",
    "version": 3
   },
   "file_extension": ".py",
   "mimetype": "text/x-python",
   "name": "python",
   "nbconvert_exporter": "python",
   "pygments_lexer": "ipython3",
   "version": "3.9.12"
  }
 },
 "nbformat": 4,
 "nbformat_minor": 5
}
