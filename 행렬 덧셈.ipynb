{
 "cells": [
  {
   "cell_type": "markdown",
   "id": "b32cebac",
   "metadata": {},
   "source": [
    "### 행렬의 덧셈은 행과 열의 크기가 같은 두 행렬의 같은 행, 같은 열의 값을 서로 더한 결과가 됩니다. 2개의 행렬 arr1과 arr2를 입력받아, 행렬 덧셈의 결과를 반환하는 함수, solution을 완성해주세요."
   ]
  },
  {
   "cell_type": "code",
   "execution_count": 14,
   "id": "65a06024",
   "metadata": {},
   "outputs": [],
   "source": [
    "import numpy as np"
   ]
  },
  {
   "cell_type": "code",
   "execution_count": 19,
   "id": "8ea4a966",
   "metadata": {},
   "outputs": [],
   "source": [
    "def solution(arr1, arr2):\n",
    "    #answer = [[]]\n",
    "    answer = np.array(arr1) + np.array(arr2)\n",
    "    return answer.tolist()"
   ]
  },
  {
   "cell_type": "markdown",
   "id": "fcf5dd03",
   "metadata": {},
   "source": [
    "# 행렬 계산에는 numpy가 쓸모가많다고함"
   ]
  },
  {
   "cell_type": "code",
   "execution_count": null,
   "id": "40102954",
   "metadata": {},
   "outputs": [],
   "source": []
  }
 ],
 "metadata": {
  "kernelspec": {
   "display_name": "Python 3 (ipykernel)",
   "language": "python",
   "name": "python3"
  },
  "language_info": {
   "codemirror_mode": {
    "name": "ipython",
    "version": 3
   },
   "file_extension": ".py",
   "mimetype": "text/x-python",
   "name": "python",
   "nbconvert_exporter": "python",
   "pygments_lexer": "ipython3",
   "version": "3.9.12"
  }
 },
 "nbformat": 4,
 "nbformat_minor": 5
}
